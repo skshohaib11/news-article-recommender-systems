{
 "cells": [
  {
   "cell_type": "markdown",
   "metadata": {},
   "source": [
    "# Objective:\n",
    "### To design a recommendation system that can suggest personalized news articles or blog posts to users based on their reading history and interests.The system should be able to learn and adapt to the user's preferences overtime and provide relevant and engaging content.  \n",
    "\n",
    "# About Dataset:\n",
    "### The datasets consists of  variables like category, headline, authors, link, short_description, date.\n",
    "\n",
    "# Variables Description:\n",
    "* category: The category of the news.\n",
    "* headline: The title of news.\n",
    "* authors: Author of that particular news.\n",
    "* link: The web address of that particular news.\n",
    "* short_desceiption: In short about the news published.\n",
    "* date: Day on which the news was published.\n",
    "\n",
    "\n",
    "# Tasks carried out:\n",
    "* Data Extraction\n",
    "* Data Exploration and EDA.\n",
    "* Text Processing.\n",
    "* Model Building\n",
    "* Creating a pickle file for model deployment using web application :."
   ]
  },
  {
   "cell_type": "markdown",
   "metadata": {},
   "source": [
    "## 1) Importing The Required Libraries:"
   ]
  },
  {
   "cell_type": "code",
   "execution_count": 5,
   "metadata": {
    "execution": {
     "iopub.execute_input": "2023-05-18T13:46:35.187858Z",
     "iopub.status.busy": "2023-05-18T13:46:35.187380Z",
     "iopub.status.idle": "2023-05-18T13:46:36.386899Z",
     "shell.execute_reply": "2023-05-18T13:46:36.384650Z",
     "shell.execute_reply.started": "2023-05-18T13:46:35.187814Z"
    }
   },
   "outputs": [],
   "source": [
    "import numpy as np\n",
    "import pandas as pd\n",
    "import matplotlib.pyplot as plt\n",
    "%matplotlib inline\n",
    "import datetime\n",
    "#import nltk\n",
    "import string\n",
    "#nltk.download('stopwords')\n",
    "from nltk.corpus import stopwords, wordnet\n",
    "from nltk.tokenize import word_tokenize\n",
    "from nltk.stem import WordNetLemmatizer\n",
    "#from gensim.models import Word2Vec\n",
    "#from gensim.models import KeyedVectors\n",
    "from sklearn.feature_extraction.text import CountVectorizer\n",
    "from sklearn.feature_extraction.text import TfidfVectorizer\n",
    "from sklearn.metrics import pairwise_distances\n",
    "from sklearn.metrics.pairwise import euclidean_distances\n",
    "#from sklearn.metrics.pairwise import cosine_similarity\n",
    "#from scipy.sparse import csr_matrix\n",
    "import pickle\n",
    "import warnings\n",
    "warnings.filterwarnings(\"ignore\")"
   ]
  },
  {
   "cell_type": "markdown",
   "metadata": {},
   "source": [
    "## 2) Loading The Dataset:"
   ]
  },
  {
   "cell_type": "code",
   "execution_count": 6,
   "metadata": {
    "execution": {
     "iopub.status.busy": "2023-05-18T13:44:00.485734Z",
     "iopub.status.idle": "2023-05-18T13:44:00.486226Z",
     "shell.execute_reply": "2023-05-18T13:44:00.486032Z",
     "shell.execute_reply.started": "2023-05-18T13:44:00.486012Z"
    }
   },
   "outputs": [
    {
     "data": {
      "text/html": [
       "<div>\n",
       "<style scoped>\n",
       "    .dataframe tbody tr th:only-of-type {\n",
       "        vertical-align: middle;\n",
       "    }\n",
       "\n",
       "    .dataframe tbody tr th {\n",
       "        vertical-align: top;\n",
       "    }\n",
       "\n",
       "    .dataframe thead th {\n",
       "        text-align: right;\n",
       "    }\n",
       "</style>\n",
       "<table border=\"1\" class=\"dataframe\">\n",
       "  <thead>\n",
       "    <tr style=\"text-align: right;\">\n",
       "      <th></th>\n",
       "      <th>category</th>\n",
       "      <th>headline</th>\n",
       "      <th>authors</th>\n",
       "      <th>link</th>\n",
       "      <th>short_description</th>\n",
       "      <th>date</th>\n",
       "    </tr>\n",
       "  </thead>\n",
       "  <tbody>\n",
       "    <tr>\n",
       "      <th>0</th>\n",
       "      <td>CRIME</td>\n",
       "      <td>There Were 2 Mass Shootings In Texas Last Week...</td>\n",
       "      <td>Melissa Jeltsen</td>\n",
       "      <td>https://www.huffingtonpost.com/entry/texas-ama...</td>\n",
       "      <td>She left her husband. He killed their children...</td>\n",
       "      <td>2018-05-26</td>\n",
       "    </tr>\n",
       "    <tr>\n",
       "      <th>1</th>\n",
       "      <td>ENTERTAINMENT</td>\n",
       "      <td>Will Smith Joins Diplo And Nicky Jam For The 2...</td>\n",
       "      <td>Andy McDonald</td>\n",
       "      <td>https://www.huffingtonpost.com/entry/will-smit...</td>\n",
       "      <td>Of course it has a song.</td>\n",
       "      <td>2018-05-26</td>\n",
       "    </tr>\n",
       "    <tr>\n",
       "      <th>2</th>\n",
       "      <td>ENTERTAINMENT</td>\n",
       "      <td>Hugh Grant Marries For The First Time At Age 57</td>\n",
       "      <td>Ron Dicker</td>\n",
       "      <td>https://www.huffingtonpost.com/entry/hugh-gran...</td>\n",
       "      <td>The actor and his longtime girlfriend Anna Ebe...</td>\n",
       "      <td>2018-05-26</td>\n",
       "    </tr>\n",
       "    <tr>\n",
       "      <th>3</th>\n",
       "      <td>ENTERTAINMENT</td>\n",
       "      <td>Jim Carrey Blasts 'Castrato' Adam Schiff And D...</td>\n",
       "      <td>Ron Dicker</td>\n",
       "      <td>https://www.huffingtonpost.com/entry/jim-carre...</td>\n",
       "      <td>The actor gives Dems an ass-kicking for not fi...</td>\n",
       "      <td>2018-05-26</td>\n",
       "    </tr>\n",
       "    <tr>\n",
       "      <th>4</th>\n",
       "      <td>ENTERTAINMENT</td>\n",
       "      <td>Julianna Margulies Uses Donald Trump Poop Bags...</td>\n",
       "      <td>Ron Dicker</td>\n",
       "      <td>https://www.huffingtonpost.com/entry/julianna-...</td>\n",
       "      <td>The \"Dietland\" actress said using the bags is ...</td>\n",
       "      <td>2018-05-26</td>\n",
       "    </tr>\n",
       "  </tbody>\n",
       "</table>\n",
       "</div>"
      ],
      "text/plain": [
       "        category                                           headline  \\\n",
       "0          CRIME  There Were 2 Mass Shootings In Texas Last Week...   \n",
       "1  ENTERTAINMENT  Will Smith Joins Diplo And Nicky Jam For The 2...   \n",
       "2  ENTERTAINMENT    Hugh Grant Marries For The First Time At Age 57   \n",
       "3  ENTERTAINMENT  Jim Carrey Blasts 'Castrato' Adam Schiff And D...   \n",
       "4  ENTERTAINMENT  Julianna Margulies Uses Donald Trump Poop Bags...   \n",
       "\n",
       "           authors                                               link  \\\n",
       "0  Melissa Jeltsen  https://www.huffingtonpost.com/entry/texas-ama...   \n",
       "1    Andy McDonald  https://www.huffingtonpost.com/entry/will-smit...   \n",
       "2       Ron Dicker  https://www.huffingtonpost.com/entry/hugh-gran...   \n",
       "3       Ron Dicker  https://www.huffingtonpost.com/entry/jim-carre...   \n",
       "4       Ron Dicker  https://www.huffingtonpost.com/entry/julianna-...   \n",
       "\n",
       "                                   short_description        date  \n",
       "0  She left her husband. He killed their children...  2018-05-26  \n",
       "1                           Of course it has a song.  2018-05-26  \n",
       "2  The actor and his longtime girlfriend Anna Ebe...  2018-05-26  \n",
       "3  The actor gives Dems an ass-kicking for not fi...  2018-05-26  \n",
       "4  The \"Dietland\" actress said using the bags is ...  2018-05-26  "
      ]
     },
     "execution_count": 6,
     "metadata": {},
     "output_type": "execute_result"
    }
   ],
   "source": [
    "news_articles = pd.read_csv(r\"C:\\Users\\sksho\\Desktop\\ZenteiQ\\Work\\Data\\News category dataset.csv\")\n",
    "news_articles.head()"
   ]
  },
  {
   "cell_type": "code",
   "execution_count": 7,
   "metadata": {
    "execution": {
     "iopub.status.busy": "2023-05-18T13:44:00.487562Z",
     "iopub.status.idle": "2023-05-18T13:44:00.488004Z",
     "shell.execute_reply": "2023-05-18T13:44:00.487826Z",
     "shell.execute_reply.started": "2023-05-18T13:44:00.487807Z"
    }
   },
   "outputs": [
    {
     "name": "stdout",
     "output_type": "stream",
     "text": [
      "<class 'pandas.core.frame.DataFrame'>\n",
      "RangeIndex: 200853 entries, 0 to 200852\n",
      "Data columns (total 6 columns):\n",
      " #   Column             Non-Null Count   Dtype \n",
      "---  ------             --------------   ----- \n",
      " 0   category           200853 non-null  object\n",
      " 1   headline           200847 non-null  object\n",
      " 2   authors            164233 non-null  object\n",
      " 3   link               200853 non-null  object\n",
      " 4   short_description  181141 non-null  object\n",
      " 5   date               200853 non-null  object\n",
      "dtypes: object(6)\n",
      "memory usage: 9.2+ MB\n"
     ]
    }
   ],
   "source": [
    "news_articles.info()"
   ]
  },
  {
   "cell_type": "markdown",
   "metadata": {},
   "source": [
    "#### Note: From above we can observe that there are some missing values. Hence we will check the Number of missing values in the data and the contribution of missing values in the data."
   ]
  },
  {
   "cell_type": "code",
   "execution_count": 8,
   "metadata": {
    "execution": {
     "iopub.status.busy": "2023-05-18T13:44:00.489247Z",
     "iopub.status.idle": "2023-05-18T13:44:00.489681Z",
     "shell.execute_reply": "2023-05-18T13:44:00.489487Z",
     "shell.execute_reply.started": "2023-05-18T13:44:00.489468Z"
    }
   },
   "outputs": [],
   "source": [
    "missing_values_contribution = pd.DataFrame({'No.of Missing Values': news_articles.isna().sum(),\n",
    "                                            '% of Missing Values': (news_articles.isna().sum() / len(news_articles)) * 100})"
   ]
  },
  {
   "cell_type": "code",
   "execution_count": 9,
   "metadata": {
    "execution": {
     "iopub.status.busy": "2023-05-18T13:44:00.493069Z",
     "iopub.status.idle": "2023-05-18T13:44:00.493705Z",
     "shell.execute_reply": "2023-05-18T13:44:00.493403Z",
     "shell.execute_reply.started": "2023-05-18T13:44:00.493373Z"
    }
   },
   "outputs": [
    {
     "data": {
      "text/html": [
       "<div>\n",
       "<style scoped>\n",
       "    .dataframe tbody tr th:only-of-type {\n",
       "        vertical-align: middle;\n",
       "    }\n",
       "\n",
       "    .dataframe tbody tr th {\n",
       "        vertical-align: top;\n",
       "    }\n",
       "\n",
       "    .dataframe thead th {\n",
       "        text-align: right;\n",
       "    }\n",
       "</style>\n",
       "<table border=\"1\" class=\"dataframe\">\n",
       "  <thead>\n",
       "    <tr style=\"text-align: right;\">\n",
       "      <th></th>\n",
       "      <th>No.of Missing Values</th>\n",
       "      <th>% of Missing Values</th>\n",
       "    </tr>\n",
       "  </thead>\n",
       "  <tbody>\n",
       "    <tr>\n",
       "      <th>category</th>\n",
       "      <td>0</td>\n",
       "      <td>0.000000</td>\n",
       "    </tr>\n",
       "    <tr>\n",
       "      <th>headline</th>\n",
       "      <td>6</td>\n",
       "      <td>0.002987</td>\n",
       "    </tr>\n",
       "    <tr>\n",
       "      <th>authors</th>\n",
       "      <td>36620</td>\n",
       "      <td>18.232239</td>\n",
       "    </tr>\n",
       "    <tr>\n",
       "      <th>link</th>\n",
       "      <td>0</td>\n",
       "      <td>0.000000</td>\n",
       "    </tr>\n",
       "    <tr>\n",
       "      <th>short_description</th>\n",
       "      <td>19712</td>\n",
       "      <td>9.814143</td>\n",
       "    </tr>\n",
       "    <tr>\n",
       "      <th>date</th>\n",
       "      <td>0</td>\n",
       "      <td>0.000000</td>\n",
       "    </tr>\n",
       "  </tbody>\n",
       "</table>\n",
       "</div>"
      ],
      "text/plain": [
       "                   No.of Missing Values  % of Missing Values\n",
       "category                              0             0.000000\n",
       "headline                              6             0.002987\n",
       "authors                           36620            18.232239\n",
       "link                                  0             0.000000\n",
       "short_description                 19712             9.814143\n",
       "date                                  0             0.000000"
      ]
     },
     "execution_count": 9,
     "metadata": {},
     "output_type": "execute_result"
    }
   ],
   "source": [
    "missing_values_contribution"
   ]
  },
  {
   "cell_type": "markdown",
   "metadata": {},
   "source": [
    "#### Note: There are total 200853 records in the data with 6 object type features. Also there are missing values in the data.\n",
    "* We can observe that the feature authors have maximum number of missing values followed by shrot_description and headlines which contributes about 18.23%, 9.81%, and 0.0029% of data respectively.\n",
    "* We will drop this null values as this will not contribute much in our analysis of dataset. \n"
   ]
  },
  {
   "cell_type": "code",
   "execution_count": 10,
   "metadata": {
    "execution": {
     "iopub.status.busy": "2023-05-18T13:44:00.494810Z",
     "iopub.status.idle": "2023-05-18T13:44:00.495381Z",
     "shell.execute_reply": "2023-05-18T13:44:00.495127Z",
     "shell.execute_reply.started": "2023-05-18T13:44:00.495101Z"
    }
   },
   "outputs": [],
   "source": [
    "news_articles.dropna(inplace=True)"
   ]
  },
  {
   "cell_type": "code",
   "execution_count": 11,
   "metadata": {
    "execution": {
     "iopub.status.busy": "2023-05-18T13:44:00.498120Z",
     "iopub.status.idle": "2023-05-18T13:44:00.498716Z",
     "shell.execute_reply": "2023-05-18T13:44:00.498433Z",
     "shell.execute_reply.started": "2023-05-18T13:44:00.498407Z"
    }
   },
   "outputs": [
    {
     "data": {
      "text/plain": [
       "category             0\n",
       "headline             0\n",
       "authors              0\n",
       "link                 0\n",
       "short_description    0\n",
       "date                 0\n",
       "dtype: int64"
      ]
     },
     "execution_count": 11,
     "metadata": {},
     "output_type": "execute_result"
    }
   ],
   "source": [
    "news_articles.isna().sum()"
   ]
  },
  {
   "cell_type": "code",
   "execution_count": 12,
   "metadata": {
    "execution": {
     "iopub.status.busy": "2023-05-18T13:44:00.500351Z",
     "iopub.status.idle": "2023-05-18T13:44:00.501001Z",
     "shell.execute_reply": "2023-05-18T13:44:00.500701Z",
     "shell.execute_reply.started": "2023-05-18T13:44:00.500671Z"
    }
   },
   "outputs": [
    {
     "name": "stdout",
     "output_type": "stream",
     "text": [
      "<class 'pandas.core.frame.DataFrame'>\n",
      "Int64Index: 148983 entries, 0 to 200848\n",
      "Data columns (total 6 columns):\n",
      " #   Column             Non-Null Count   Dtype \n",
      "---  ------             --------------   ----- \n",
      " 0   category           148983 non-null  object\n",
      " 1   headline           148983 non-null  object\n",
      " 2   authors            148983 non-null  object\n",
      " 3   link               148983 non-null  object\n",
      " 4   short_description  148983 non-null  object\n",
      " 5   date               148983 non-null  object\n",
      "dtypes: object(6)\n",
      "memory usage: 8.0+ MB\n"
     ]
    }
   ],
   "source": [
    "news_articles.info()"
   ]
  },
  {
   "cell_type": "markdown",
   "metadata": {},
   "source": [
    "#### Note: we can observe that all null values have be dropped and we are left with 148983 non null values."
   ]
  },
  {
   "cell_type": "code",
   "execution_count": 13,
   "metadata": {
    "execution": {
     "iopub.status.busy": "2023-05-18T13:44:00.503177Z",
     "iopub.status.idle": "2023-05-18T13:44:00.503783Z",
     "shell.execute_reply": "2023-05-18T13:44:00.503510Z",
     "shell.execute_reply.started": "2023-05-18T13:44:00.503472Z"
    }
   },
   "outputs": [
    {
     "data": {
      "text/plain": [
       "(148983, 6)"
      ]
     },
     "execution_count": 13,
     "metadata": {},
     "output_type": "execute_result"
    }
   ],
   "source": [
    "news_articles.shape"
   ]
  },
  {
   "cell_type": "markdown",
   "metadata": {},
   "source": [
    "#### Note: From the dataset we can note that the columns category, authors, and short description can have same values. hence we have to note that if there are any duplicate values in the headlines column. and eliminate them. "
   ]
  },
  {
   "cell_type": "code",
   "execution_count": 14,
   "metadata": {
    "execution": {
     "iopub.status.busy": "2023-05-18T13:44:00.505109Z",
     "iopub.status.idle": "2023-05-18T13:44:00.505697Z",
     "shell.execute_reply": "2023-05-18T13:44:00.505413Z",
     "shell.execute_reply.started": "2023-05-18T13:44:00.505387Z"
    }
   },
   "outputs": [
    {
     "data": {
      "text/plain": [
       "148983"
      ]
     },
     "execution_count": 14,
     "metadata": {},
     "output_type": "execute_result"
    }
   ],
   "source": [
    "news_articles['headline'].count()"
   ]
  },
  {
   "cell_type": "code",
   "execution_count": 15,
   "metadata": {
    "execution": {
     "iopub.status.busy": "2023-05-18T13:44:00.507531Z",
     "iopub.status.idle": "2023-05-18T13:44:00.509819Z",
     "shell.execute_reply": "2023-05-18T13:44:00.509547Z",
     "shell.execute_reply.started": "2023-05-18T13:44:00.509521Z"
    }
   },
   "outputs": [
    {
     "data": {
      "text/html": [
       "<div>\n",
       "<style scoped>\n",
       "    .dataframe tbody tr th:only-of-type {\n",
       "        vertical-align: middle;\n",
       "    }\n",
       "\n",
       "    .dataframe tbody tr th {\n",
       "        vertical-align: top;\n",
       "    }\n",
       "\n",
       "    .dataframe thead th {\n",
       "        text-align: right;\n",
       "    }\n",
       "</style>\n",
       "<table border=\"1\" class=\"dataframe\">\n",
       "  <thead>\n",
       "    <tr style=\"text-align: right;\">\n",
       "      <th></th>\n",
       "      <th>category</th>\n",
       "      <th>headline</th>\n",
       "      <th>authors</th>\n",
       "      <th>link</th>\n",
       "      <th>short_description</th>\n",
       "      <th>date</th>\n",
       "    </tr>\n",
       "  </thead>\n",
       "  <tbody>\n",
       "    <tr>\n",
       "      <th>0</th>\n",
       "      <td>CRIME</td>\n",
       "      <td>There Were 2 Mass Shootings In Texas Last Week...</td>\n",
       "      <td>Melissa Jeltsen</td>\n",
       "      <td>https://www.huffingtonpost.com/entry/texas-ama...</td>\n",
       "      <td>She left her husband. He killed their children...</td>\n",
       "      <td>2018-05-26</td>\n",
       "    </tr>\n",
       "    <tr>\n",
       "      <th>1</th>\n",
       "      <td>ENTERTAINMENT</td>\n",
       "      <td>Will Smith Joins Diplo And Nicky Jam For The 2...</td>\n",
       "      <td>Andy McDonald</td>\n",
       "      <td>https://www.huffingtonpost.com/entry/will-smit...</td>\n",
       "      <td>Of course it has a song.</td>\n",
       "      <td>2018-05-26</td>\n",
       "    </tr>\n",
       "    <tr>\n",
       "      <th>2</th>\n",
       "      <td>ENTERTAINMENT</td>\n",
       "      <td>Hugh Grant Marries For The First Time At Age 57</td>\n",
       "      <td>Ron Dicker</td>\n",
       "      <td>https://www.huffingtonpost.com/entry/hugh-gran...</td>\n",
       "      <td>The actor and his longtime girlfriend Anna Ebe...</td>\n",
       "      <td>2018-05-26</td>\n",
       "    </tr>\n",
       "    <tr>\n",
       "      <th>3</th>\n",
       "      <td>ENTERTAINMENT</td>\n",
       "      <td>Jim Carrey Blasts 'Castrato' Adam Schiff And D...</td>\n",
       "      <td>Ron Dicker</td>\n",
       "      <td>https://www.huffingtonpost.com/entry/jim-carre...</td>\n",
       "      <td>The actor gives Dems an ass-kicking for not fi...</td>\n",
       "      <td>2018-05-26</td>\n",
       "    </tr>\n",
       "    <tr>\n",
       "      <th>4</th>\n",
       "      <td>ENTERTAINMENT</td>\n",
       "      <td>Julianna Margulies Uses Donald Trump Poop Bags...</td>\n",
       "      <td>Ron Dicker</td>\n",
       "      <td>https://www.huffingtonpost.com/entry/julianna-...</td>\n",
       "      <td>The \"Dietland\" actress said using the bags is ...</td>\n",
       "      <td>2018-05-26</td>\n",
       "    </tr>\n",
       "    <tr>\n",
       "      <th>...</th>\n",
       "      <td>...</td>\n",
       "      <td>...</td>\n",
       "      <td>...</td>\n",
       "      <td>...</td>\n",
       "      <td>...</td>\n",
       "      <td>...</td>\n",
       "    </tr>\n",
       "    <tr>\n",
       "      <th>200843</th>\n",
       "      <td>TECH</td>\n",
       "      <td>Good Games -- Is It possible?</td>\n",
       "      <td>Mateo Gutierrez, Contributor\\nArtist</td>\n",
       "      <td>https://www.huffingtonpost.com/entry/games-for...</td>\n",
       "      <td>I don't think people who play Zynga games are ...</td>\n",
       "      <td>2012-01-28</td>\n",
       "    </tr>\n",
       "    <tr>\n",
       "      <th>200844</th>\n",
       "      <td>TECH</td>\n",
       "      <td>Google+ Now Open for Teens With Some Safeguards</td>\n",
       "      <td>Larry Magid, Contributor\\nTechnology journalist</td>\n",
       "      <td>https://www.huffingtonpost.com/entry/google-pl...</td>\n",
       "      <td>For the most part, teens' experience on Google...</td>\n",
       "      <td>2012-01-28</td>\n",
       "    </tr>\n",
       "    <tr>\n",
       "      <th>200845</th>\n",
       "      <td>TECH</td>\n",
       "      <td>Web Wars</td>\n",
       "      <td>John Giacobbi, Contributor\\nTales from the Int...</td>\n",
       "      <td>https://www.huffingtonpost.com/entry/congress-...</td>\n",
       "      <td>These \"Web Wars\" threaten to rage on for some ...</td>\n",
       "      <td>2012-01-28</td>\n",
       "    </tr>\n",
       "    <tr>\n",
       "      <th>200847</th>\n",
       "      <td>TECH</td>\n",
       "      <td>Watch The Top 9 YouTube Videos Of The Week</td>\n",
       "      <td>Catharine Smith</td>\n",
       "      <td>https://www.huffingtonpost.com/entry/watch-top...</td>\n",
       "      <td>If you're looking to see the most popular YouT...</td>\n",
       "      <td>2012-01-28</td>\n",
       "    </tr>\n",
       "    <tr>\n",
       "      <th>200848</th>\n",
       "      <td>TECH</td>\n",
       "      <td>RIM CEO Thorsten Heins' 'Significant' Plans Fo...</td>\n",
       "      <td>Reuters, Reuters</td>\n",
       "      <td>https://www.huffingtonpost.com/entry/rim-ceo-t...</td>\n",
       "      <td>Verizon Wireless and AT&amp;T are already promotin...</td>\n",
       "      <td>2012-01-28</td>\n",
       "    </tr>\n",
       "  </tbody>\n",
       "</table>\n",
       "<p>148983 rows × 6 columns</p>\n",
       "</div>"
      ],
      "text/plain": [
       "             category                                           headline  \\\n",
       "0               CRIME  There Were 2 Mass Shootings In Texas Last Week...   \n",
       "1       ENTERTAINMENT  Will Smith Joins Diplo And Nicky Jam For The 2...   \n",
       "2       ENTERTAINMENT    Hugh Grant Marries For The First Time At Age 57   \n",
       "3       ENTERTAINMENT  Jim Carrey Blasts 'Castrato' Adam Schiff And D...   \n",
       "4       ENTERTAINMENT  Julianna Margulies Uses Donald Trump Poop Bags...   \n",
       "...               ...                                                ...   \n",
       "200843           TECH                      Good Games -- Is It possible?   \n",
       "200844           TECH    Google+ Now Open for Teens With Some Safeguards   \n",
       "200845           TECH                                           Web Wars   \n",
       "200847           TECH         Watch The Top 9 YouTube Videos Of The Week   \n",
       "200848           TECH  RIM CEO Thorsten Heins' 'Significant' Plans Fo...   \n",
       "\n",
       "                                                  authors  \\\n",
       "0                                         Melissa Jeltsen   \n",
       "1                                           Andy McDonald   \n",
       "2                                              Ron Dicker   \n",
       "3                                              Ron Dicker   \n",
       "4                                              Ron Dicker   \n",
       "...                                                   ...   \n",
       "200843               Mateo Gutierrez, Contributor\\nArtist   \n",
       "200844    Larry Magid, Contributor\\nTechnology journalist   \n",
       "200845  John Giacobbi, Contributor\\nTales from the Int...   \n",
       "200847                                    Catharine Smith   \n",
       "200848                                   Reuters, Reuters   \n",
       "\n",
       "                                                     link  \\\n",
       "0       https://www.huffingtonpost.com/entry/texas-ama...   \n",
       "1       https://www.huffingtonpost.com/entry/will-smit...   \n",
       "2       https://www.huffingtonpost.com/entry/hugh-gran...   \n",
       "3       https://www.huffingtonpost.com/entry/jim-carre...   \n",
       "4       https://www.huffingtonpost.com/entry/julianna-...   \n",
       "...                                                   ...   \n",
       "200843  https://www.huffingtonpost.com/entry/games-for...   \n",
       "200844  https://www.huffingtonpost.com/entry/google-pl...   \n",
       "200845  https://www.huffingtonpost.com/entry/congress-...   \n",
       "200847  https://www.huffingtonpost.com/entry/watch-top...   \n",
       "200848  https://www.huffingtonpost.com/entry/rim-ceo-t...   \n",
       "\n",
       "                                        short_description        date  \n",
       "0       She left her husband. He killed their children...  2018-05-26  \n",
       "1                                Of course it has a song.  2018-05-26  \n",
       "2       The actor and his longtime girlfriend Anna Ebe...  2018-05-26  \n",
       "3       The actor gives Dems an ass-kicking for not fi...  2018-05-26  \n",
       "4       The \"Dietland\" actress said using the bags is ...  2018-05-26  \n",
       "...                                                   ...         ...  \n",
       "200843  I don't think people who play Zynga games are ...  2012-01-28  \n",
       "200844  For the most part, teens' experience on Google...  2012-01-28  \n",
       "200845  These \"Web Wars\" threaten to rage on for some ...  2012-01-28  \n",
       "200847  If you're looking to see the most popular YouT...  2012-01-28  \n",
       "200848  Verizon Wireless and AT&T are already promotin...  2012-01-28  \n",
       "\n",
       "[148983 rows x 6 columns]"
      ]
     },
     "execution_count": 15,
     "metadata": {},
     "output_type": "execute_result"
    }
   ],
   "source": [
    "news_articles"
   ]
  },
  {
   "cell_type": "code",
   "execution_count": 16,
   "metadata": {
    "execution": {
     "iopub.status.busy": "2023-05-18T13:44:00.510675Z",
     "iopub.status.idle": "2023-05-18T13:44:00.511083Z",
     "shell.execute_reply": "2023-05-18T13:44:00.510899Z",
     "shell.execute_reply.started": "2023-05-18T13:44:00.510881Z"
    }
   },
   "outputs": [
    {
     "name": "stdout",
     "output_type": "stream",
     "text": [
      "Total number of articles after removing duplicates: 147706\n"
     ]
    }
   ],
   "source": [
    "news_articles.sort_values('headline',inplace=True, ascending=False)\n",
    "duplicated_articles_series = news_articles.duplicated('headline', keep = False)\n",
    "news_articles = news_articles[~duplicated_articles_series]\n",
    "print(\"Total number of articles after removing duplicates:\", news_articles['headline'].nunique())"
   ]
  },
  {
   "cell_type": "markdown",
   "metadata": {},
   "source": [
    "#### To see the total number of unique records."
   ]
  },
  {
   "cell_type": "code",
   "execution_count": 17,
   "metadata": {
    "execution": {
     "iopub.status.busy": "2023-05-18T13:44:00.513245Z",
     "iopub.status.idle": "2023-05-18T13:44:00.513775Z",
     "shell.execute_reply": "2023-05-18T13:44:00.513542Z",
     "shell.execute_reply.started": "2023-05-18T13:44:00.513521Z"
    }
   },
   "outputs": [
    {
     "data": {
      "text/plain": [
       "category                 41\n",
       "headline             147706\n",
       "authors               27055\n",
       "link                 147706\n",
       "short_description    146102\n",
       "date                   2309\n",
       "dtype: int64"
      ]
     },
     "execution_count": 17,
     "metadata": {},
     "output_type": "execute_result"
    }
   ],
   "source": [
    "news_articles.nunique()"
   ]
  },
  {
   "cell_type": "markdown",
   "metadata": {},
   "source": [
    " ## 3) Exploratory Data Analysis:"
   ]
  },
  {
   "cell_type": "code",
   "execution_count": 18,
   "metadata": {
    "execution": {
     "iopub.status.busy": "2023-05-18T13:44:00.514574Z",
     "iopub.status.idle": "2023-05-18T13:44:00.515644Z",
     "shell.execute_reply": "2023-05-18T13:44:00.515425Z",
     "shell.execute_reply.started": "2023-05-18T13:44:00.515401Z"
    }
   },
   "outputs": [
    {
     "data": {
      "text/plain": [
       "POLITICS          26779\n",
       "WELLNESS          12745\n",
       "ENTERTAINMENT     12171\n",
       "TRAVEL             7992\n",
       "STYLE & BEAUTY     6635\n",
       "Name: category, dtype: int64"
      ]
     },
     "execution_count": 18,
     "metadata": {},
     "output_type": "execute_result"
    }
   ],
   "source": [
    "news_articles[\"category\"].value_counts().head()"
   ]
  },
  {
   "cell_type": "code",
   "execution_count": 19,
   "metadata": {
    "execution": {
     "iopub.status.busy": "2023-05-18T13:44:00.517237Z",
     "iopub.status.idle": "2023-05-18T13:44:00.517855Z",
     "shell.execute_reply": "2023-05-18T13:44:00.517580Z",
     "shell.execute_reply.started": "2023-05-18T13:44:00.517466Z"
    }
   },
   "outputs": [
    {
     "data": {
      "text/plain": [
       "LATINO VOICES     877\n",
       "ARTS              861\n",
       "COLLEGE           859\n",
       "ENVIRONMENT       669\n",
       "CULTURE & ARTS    611\n",
       "Name: category, dtype: int64"
      ]
     },
     "execution_count": 19,
     "metadata": {},
     "output_type": "execute_result"
    }
   ],
   "source": [
    "news_articles[\"category\"].value_counts().tail()"
   ]
  },
  {
   "cell_type": "code",
   "execution_count": 20,
   "metadata": {
    "execution": {
     "iopub.status.busy": "2023-05-18T13:44:00.519894Z",
     "iopub.status.idle": "2023-05-18T13:44:00.520837Z",
     "shell.execute_reply": "2023-05-18T13:44:00.520601Z",
     "shell.execute_reply.started": "2023-05-18T13:44:00.520578Z"
    }
   },
   "outputs": [
    {
     "data": {
      "image/png": "[encoded data removed]",
      "text/plain": [
       "<Figure size 1000x600 with 1 Axes>"
      ]
     },
     "metadata": {},
     "output_type": "display_data"
    }
   ],
   "source": [
    "plt.figure(figsize=(10,6))\n",
    "news_articles[\"category\"].value_counts().plot.bar(xlabel = 'News Category', \n",
    "                                   ylabel = 'Number of Articles', \n",
    "                                   title = 'Number of Articles Per Category')\n",
    "plt.show()"
   ]
  },
  {
   "cell_type": "markdown",
   "metadata": {},
   "source": [
    "#### Note: \n",
    "* We can observe that Top 5 articles that are watched are based on Politics, Wellness, Entertainment, Travel, Style & Beauty.\n",
    "* We can observe that Bottom 5 articles that are watched are based on Culture & Arts, Environment, College, Arts,Latino Voices."
   ]
  },
  {
   "cell_type": "code",
   "execution_count": 21,
   "metadata": {
    "execution": {
     "iopub.status.busy": "2023-05-18T13:44:00.522524Z",
     "iopub.status.idle": "2023-05-18T13:44:00.522966Z",
     "shell.execute_reply": "2023-05-18T13:44:00.522785Z",
     "shell.execute_reply.started": "2023-05-18T13:44:00.522759Z"
    }
   },
   "outputs": [
    {
     "data": {
      "image/png": "[encoded data removed]",
      "text/plain": [
       "<Figure size 1000x600 with 1 Axes>"
      ]
     },
     "metadata": {},
     "output_type": "display_data"
    }
   ],
   "source": [
    "news_articles['date'] = pd.to_datetime(news_articles['date'])\n",
    "\n",
    "# Resample the DataFrame by Year and count the number of articles\n",
    "news_articles_monthly = news_articles.resample('Y', on='date')['headline'].count()\n",
    "\n",
    "# Create a bar plot of the monthly article counts\n",
    "plt.figure(figsize = (10,6))\n",
    "plt.barh(news_articles_monthly.index.strftime('%Y'), news_articles_monthly)\n",
    "\n",
    "# Set the plot title and axis labels\n",
    "plt.title('Number of Articles per Year')\n",
    "plt.xlabel('Year')\n",
    "plt.ylabel('Number of Articles')\n",
    "\n",
    "# Display the plot\n",
    "plt.show()"
   ]
  },
  {
   "cell_type": "markdown",
   "metadata": {},
   "source": [
    "#### Note: From above ditribution we can observe the total number of articles on yearly basis."
   ]
  },
  {
   "cell_type": "code",
   "execution_count": 22,
   "metadata": {
    "execution": {
     "iopub.status.busy": "2023-05-18T13:44:00.524536Z",
     "iopub.status.idle": "2023-05-18T13:44:00.525176Z",
     "shell.execute_reply": "2023-05-18T13:44:00.524880Z",
     "shell.execute_reply.started": "2023-05-18T13:44:00.524860Z"
    }
   },
   "outputs": [],
   "source": [
    "news_articles.index = range(news_articles.shape[0])"
   ]
  },
  {
   "cell_type": "code",
   "execution_count": 23,
   "metadata": {
    "execution": {
     "iopub.status.busy": "2023-05-18T13:44:00.526538Z",
     "iopub.status.idle": "2023-05-18T13:44:00.526957Z",
     "shell.execute_reply": "2023-05-18T13:44:00.526776Z",
     "shell.execute_reply.started": "2023-05-18T13:44:00.526757Z"
    }
   },
   "outputs": [],
   "source": [
    "news_articles[\"day and month\"] = news_articles[\"date\"].dt.strftime(\"%a\") + \"_\" + news_articles[\"date\"].dt.strftime(\"%b\")"
   ]
  },
  {
   "cell_type": "code",
   "execution_count": 24,
   "metadata": {
    "execution": {
     "iopub.status.busy": "2023-05-18T13:44:00.528339Z",
     "iopub.status.idle": "2023-05-18T13:44:00.528897Z",
     "shell.execute_reply": "2023-05-18T13:44:00.528715Z",
     "shell.execute_reply.started": "2023-05-18T13:44:00.528695Z"
    }
   },
   "outputs": [],
   "source": [
    "news_articles[\"user_id\"] = [\"user_\" + str(i) for i in range(1, 147707)]"
   ]
  },
  {
   "cell_type": "code",
   "execution_count": 25,
   "metadata": {
    "execution": {
     "iopub.status.busy": "2023-05-18T13:44:00.530416Z",
     "iopub.status.idle": "2023-05-18T13:44:00.530853Z",
     "shell.execute_reply": "2023-05-18T13:44:00.530660Z",
     "shell.execute_reply.started": "2023-05-18T13:44:00.530620Z"
    }
   },
   "outputs": [],
   "source": [
    "news_articles = news_articles.reindex(columns=['user_id', 'category', 'headline','authors','link','short_description','date','day and month'])"
   ]
  },
  {
   "cell_type": "code",
   "execution_count": 26,
   "metadata": {
    "execution": {
     "iopub.status.busy": "2023-05-18T13:44:00.532398Z",
     "iopub.status.idle": "2023-05-18T13:44:00.532841Z",
     "shell.execute_reply": "2023-05-18T13:44:00.532622Z",
     "shell.execute_reply.started": "2023-05-18T13:44:00.532605Z"
    }
   },
   "outputs": [
    {
     "data": {
      "text/html": [
       "<div>\n",
       "<style scoped>\n",
       "    .dataframe tbody tr th:only-of-type {\n",
       "        vertical-align: middle;\n",
       "    }\n",
       "\n",
       "    .dataframe tbody tr th {\n",
       "        vertical-align: top;\n",
       "    }\n",
       "\n",
       "    .dataframe thead th {\n",
       "        text-align: right;\n",
       "    }\n",
       "</style>\n",
       "<table border=\"1\" class=\"dataframe\">\n",
       "  <thead>\n",
       "    <tr style=\"text-align: right;\">\n",
       "      <th></th>\n",
       "      <th>user_id</th>\n",
       "      <th>category</th>\n",
       "      <th>headline</th>\n",
       "      <th>authors</th>\n",
       "      <th>link</th>\n",
       "      <th>short_description</th>\n",
       "      <th>date</th>\n",
       "      <th>day and month</th>\n",
       "    </tr>\n",
       "  </thead>\n",
       "  <tbody>\n",
       "    <tr>\n",
       "      <th>0</th>\n",
       "      <td>user_1</td>\n",
       "      <td>WOMEN</td>\n",
       "      <td>“We Shall Overcomb!” Say The 100,000 Marching ...</td>\n",
       "      <td>Darin Graham, ContributorJournalist</td>\n",
       "      <td>https://www.huffingtonpost.com/entry/we-shall-...</td>\n",
       "      <td>Thousands of activists descended on London to ...</td>\n",
       "      <td>2017-01-25</td>\n",
       "      <td>Wed_Jan</td>\n",
       "    </tr>\n",
       "    <tr>\n",
       "      <th>1</th>\n",
       "      <td>user_2</td>\n",
       "      <td>HEALTHY LIVING</td>\n",
       "      <td>“To The Bone” Didn’t Teach Me Glamour. It Taug...</td>\n",
       "      <td>Mycah Hazel, Contributorblogger, equal opportu...</td>\n",
       "      <td>https://www.huffingtonpost.com/entry/to-the-bo...</td>\n",
       "      <td>Oftentimes, films or TV shows about eating dis...</td>\n",
       "      <td>2017-07-18</td>\n",
       "      <td>Tue_Jul</td>\n",
       "    </tr>\n",
       "    <tr>\n",
       "      <th>2</th>\n",
       "      <td>user_3</td>\n",
       "      <td>BUSINESS</td>\n",
       "      <td>“I’m Sorry\"--The Two Tragically Forgotten Word...</td>\n",
       "      <td>Dana Brownlee, ContributorPresident of Profess...</td>\n",
       "      <td>https://www.huffingtonpost.com/entry/im-sorryt...</td>\n",
       "      <td>Unfortunately, I was one of those frustrated p...</td>\n",
       "      <td>2017-04-10</td>\n",
       "      <td>Mon_Apr</td>\n",
       "    </tr>\n",
       "    <tr>\n",
       "      <th>3</th>\n",
       "      <td>user_4</td>\n",
       "      <td>QUEER VOICES</td>\n",
       "      <td>‘Will &amp; Grace’ Creator To Donate Gay Bunny Boo...</td>\n",
       "      <td>Elyse Wanshel</td>\n",
       "      <td>https://www.huffingtonpost.com/entry/will-grac...</td>\n",
       "      <td>It's about to be a lot easier for kids in Mike...</td>\n",
       "      <td>2018-04-02</td>\n",
       "      <td>Mon_Apr</td>\n",
       "    </tr>\n",
       "    <tr>\n",
       "      <th>4</th>\n",
       "      <td>user_5</td>\n",
       "      <td>WEIRD NEWS</td>\n",
       "      <td>‘Wild Boar Curling’ Rescues Stranded Wild Boar...</td>\n",
       "      <td>Nina Golgowski</td>\n",
       "      <td>https://www.huffingtonpost.com/entry/wild-boar...</td>\n",
       "      <td>Get this pig in a blanket!</td>\n",
       "      <td>2016-02-03</td>\n",
       "      <td>Wed_Feb</td>\n",
       "    </tr>\n",
       "    <tr>\n",
       "      <th>...</th>\n",
       "      <td>...</td>\n",
       "      <td>...</td>\n",
       "      <td>...</td>\n",
       "      <td>...</td>\n",
       "      <td>...</td>\n",
       "      <td>...</td>\n",
       "      <td>...</td>\n",
       "      <td>...</td>\n",
       "    </tr>\n",
       "    <tr>\n",
       "      <th>147701</th>\n",
       "      <td>user_147702</td>\n",
       "      <td>PARENTING</td>\n",
       "      <td>\"A Doctor Prescribed My Son 140 Pain Pills in ...</td>\n",
       "      <td>Tessie Castillo, Contributor\\nAdvocacy and Com...</td>\n",
       "      <td>https://www.huffingtonpost.com/entry/a-doctor-...</td>\n",
       "      <td>\"I thought Riley was exempt from hard drugs,\" ...</td>\n",
       "      <td>2013-08-29</td>\n",
       "      <td>Thu_Aug</td>\n",
       "    </tr>\n",
       "    <tr>\n",
       "      <th>147702</th>\n",
       "      <td>user_147703</td>\n",
       "      <td>ARTS</td>\n",
       "      <td>\"@Large\" and Absent, Ai Weiwei on Alcatraz</td>\n",
       "      <td>MutualArt, ContributorWorld's largest online a...</td>\n",
       "      <td>https://www.huffingtonpost.com/entry/large-and...</td>\n",
       "      <td>The United States' most storied island prison,...</td>\n",
       "      <td>2014-10-06</td>\n",
       "      <td>Mon_Oct</td>\n",
       "    </tr>\n",
       "    <tr>\n",
       "      <th>147703</th>\n",
       "      <td>user_147704</td>\n",
       "      <td>MONEY</td>\n",
       "      <td>\"4% Rule\" Serves as Guideline for Today's Reti...</td>\n",
       "      <td>Cheryl Krueger, Contributor\\nFounder, Growing ...</td>\n",
       "      <td>https://www.huffingtonpost.com/entry/retiremen...</td>\n",
       "      <td>An estimated 10,000 baby boomers turn age 65 e...</td>\n",
       "      <td>2012-04-04</td>\n",
       "      <td>Wed_Apr</td>\n",
       "    </tr>\n",
       "    <tr>\n",
       "      <th>147704</th>\n",
       "      <td>user_147705</td>\n",
       "      <td>ENTERTAINMENT</td>\n",
       "      <td>\"3 Days to Kill\" Proves Costner's Still Got It</td>\n",
       "      <td>Jackie K Cooper, Contributor\\nFilm Critic</td>\n",
       "      <td>https://www.huffingtonpost.com/entry/3-days-to...</td>\n",
       "      <td>Kevin Costner is starring in the new action fl...</td>\n",
       "      <td>2014-02-22</td>\n",
       "      <td>Sat_Feb</td>\n",
       "    </tr>\n",
       "    <tr>\n",
       "      <th>147705</th>\n",
       "      <td>user_147706</td>\n",
       "      <td>ENTERTAINMENT</td>\n",
       "      <td>\"2 Guns\": Two Pros In Action</td>\n",
       "      <td>Jackie K Cooper, Contributor\\nFilm Critic</td>\n",
       "      <td>https://www.huffingtonpost.com/entry/2-guns-tw...</td>\n",
       "      <td>It helps that the supporting cast is almost as...</td>\n",
       "      <td>2013-08-03</td>\n",
       "      <td>Sat_Aug</td>\n",
       "    </tr>\n",
       "  </tbody>\n",
       "</table>\n",
       "<p>147706 rows × 8 columns</p>\n",
       "</div>"
      ],
      "text/plain": [
       "            user_id        category  \\\n",
       "0            user_1           WOMEN   \n",
       "1            user_2  HEALTHY LIVING   \n",
       "2            user_3        BUSINESS   \n",
       "3            user_4    QUEER VOICES   \n",
       "4            user_5      WEIRD NEWS   \n",
       "...             ...             ...   \n",
       "147701  user_147702       PARENTING   \n",
       "147702  user_147703            ARTS   \n",
       "147703  user_147704           MONEY   \n",
       "147704  user_147705   ENTERTAINMENT   \n",
       "147705  user_147706   ENTERTAINMENT   \n",
       "\n",
       "                                                 headline  \\\n",
       "0       “We Shall Overcomb!” Say The 100,000 Marching ...   \n",
       "1       “To The Bone” Didn’t Teach Me Glamour. It Taug...   \n",
       "2       “I’m Sorry\"--The Two Tragically Forgotten Word...   \n",
       "3       ‘Will & Grace’ Creator To Donate Gay Bunny Boo...   \n",
       "4       ‘Wild Boar Curling’ Rescues Stranded Wild Boar...   \n",
       "...                                                   ...   \n",
       "147701  \"A Doctor Prescribed My Son 140 Pain Pills in ...   \n",
       "147702         \"@Large\" and Absent, Ai Weiwei on Alcatraz   \n",
       "147703  \"4% Rule\" Serves as Guideline for Today's Reti...   \n",
       "147704     \"3 Days to Kill\" Proves Costner's Still Got It   \n",
       "147705                       \"2 Guns\": Two Pros In Action   \n",
       "\n",
       "                                                  authors  \\\n",
       "0                     Darin Graham, ContributorJournalist   \n",
       "1       Mycah Hazel, Contributorblogger, equal opportu...   \n",
       "2       Dana Brownlee, ContributorPresident of Profess...   \n",
       "3                                           Elyse Wanshel   \n",
       "4                                          Nina Golgowski   \n",
       "...                                                   ...   \n",
       "147701  Tessie Castillo, Contributor\\nAdvocacy and Com...   \n",
       "147702  MutualArt, ContributorWorld's largest online a...   \n",
       "147703  Cheryl Krueger, Contributor\\nFounder, Growing ...   \n",
       "147704          Jackie K Cooper, Contributor\\nFilm Critic   \n",
       "147705          Jackie K Cooper, Contributor\\nFilm Critic   \n",
       "\n",
       "                                                     link  \\\n",
       "0       https://www.huffingtonpost.com/entry/we-shall-...   \n",
       "1       https://www.huffingtonpost.com/entry/to-the-bo...   \n",
       "2       https://www.huffingtonpost.com/entry/im-sorryt...   \n",
       "3       https://www.huffingtonpost.com/entry/will-grac...   \n",
       "4       https://www.huffingtonpost.com/entry/wild-boar...   \n",
       "...                                                   ...   \n",
       "147701  https://www.huffingtonpost.com/entry/a-doctor-...   \n",
       "147702  https://www.huffingtonpost.com/entry/large-and...   \n",
       "147703  https://www.huffingtonpost.com/entry/retiremen...   \n",
       "147704  https://www.huffingtonpost.com/entry/3-days-to...   \n",
       "147705  https://www.huffingtonpost.com/entry/2-guns-tw...   \n",
       "\n",
       "                                        short_description       date  \\\n",
       "0       Thousands of activists descended on London to ... 2017-01-25   \n",
       "1       Oftentimes, films or TV shows about eating dis... 2017-07-18   \n",
       "2       Unfortunately, I was one of those frustrated p... 2017-04-10   \n",
       "3       It's about to be a lot easier for kids in Mike... 2018-04-02   \n",
       "4                              Get this pig in a blanket! 2016-02-03   \n",
       "...                                                   ...        ...   \n",
       "147701  \"I thought Riley was exempt from hard drugs,\" ... 2013-08-29   \n",
       "147702  The United States' most storied island prison,... 2014-10-06   \n",
       "147703  An estimated 10,000 baby boomers turn age 65 e... 2012-04-04   \n",
       "147704  Kevin Costner is starring in the new action fl... 2014-02-22   \n",
       "147705  It helps that the supporting cast is almost as... 2013-08-03   \n",
       "\n",
       "       day and month  \n",
       "0            Wed_Jan  \n",
       "1            Tue_Jul  \n",
       "2            Mon_Apr  \n",
       "3            Mon_Apr  \n",
       "4            Wed_Feb  \n",
       "...              ...  \n",
       "147701       Thu_Aug  \n",
       "147702       Mon_Oct  \n",
       "147703       Wed_Apr  \n",
       "147704       Sat_Feb  \n",
       "147705       Sat_Aug  \n",
       "\n",
       "[147706 rows x 8 columns]"
      ]
     },
     "execution_count": 26,
     "metadata": {},
     "output_type": "execute_result"
    }
   ],
   "source": [
    "news_articles"
   ]
  },
  {
   "cell_type": "code",
   "execution_count": 27,
   "metadata": {
    "execution": {
     "iopub.status.busy": "2023-05-18T13:44:00.534599Z",
     "iopub.status.idle": "2023-05-18T13:44:00.535177Z",
     "shell.execute_reply": "2023-05-18T13:44:00.534914Z",
     "shell.execute_reply.started": "2023-05-18T13:44:00.534887Z"
    }
   },
   "outputs": [],
   "source": [
    "news_articles_temp = news_articles.copy()"
   ]
  },
  {
   "cell_type": "code",
   "execution_count": 28,
   "metadata": {
    "execution": {
     "iopub.status.busy": "2023-05-18T13:44:00.536942Z",
     "iopub.status.idle": "2023-05-18T13:44:00.537501Z",
     "shell.execute_reply": "2023-05-18T13:44:00.537253Z",
     "shell.execute_reply.started": "2023-05-18T13:44:00.537227Z"
    }
   },
   "outputs": [
    {
     "data": {
      "text/html": [
       "<div>\n",
       "<style scoped>\n",
       "    .dataframe tbody tr th:only-of-type {\n",
       "        vertical-align: middle;\n",
       "    }\n",
       "\n",
       "    .dataframe tbody tr th {\n",
       "        vertical-align: top;\n",
       "    }\n",
       "\n",
       "    .dataframe thead th {\n",
       "        text-align: right;\n",
       "    }\n",
       "</style>\n",
       "<table border=\"1\" class=\"dataframe\">\n",
       "  <thead>\n",
       "    <tr style=\"text-align: right;\">\n",
       "      <th></th>\n",
       "      <th>user_id</th>\n",
       "      <th>category</th>\n",
       "      <th>headline</th>\n",
       "      <th>authors</th>\n",
       "      <th>link</th>\n",
       "      <th>short_description</th>\n",
       "      <th>date</th>\n",
       "      <th>day and month</th>\n",
       "    </tr>\n",
       "  </thead>\n",
       "  <tbody>\n",
       "    <tr>\n",
       "      <th>0</th>\n",
       "      <td>user_1</td>\n",
       "      <td>WOMEN</td>\n",
       "      <td>“We Shall Overcomb!” Say The 100,000 Marching ...</td>\n",
       "      <td>Darin Graham, ContributorJournalist</td>\n",
       "      <td>https://www.huffingtonpost.com/entry/we-shall-...</td>\n",
       "      <td>Thousands of activists descended on London to ...</td>\n",
       "      <td>2017-01-25</td>\n",
       "      <td>Wed_Jan</td>\n",
       "    </tr>\n",
       "  </tbody>\n",
       "</table>\n",
       "</div>"
      ],
      "text/plain": [
       "  user_id category                                           headline  \\\n",
       "0  user_1    WOMEN  “We Shall Overcomb!” Say The 100,000 Marching ...   \n",
       "\n",
       "                               authors  \\\n",
       "0  Darin Graham, ContributorJournalist   \n",
       "\n",
       "                                                link  \\\n",
       "0  https://www.huffingtonpost.com/entry/we-shall-...   \n",
       "\n",
       "                                   short_description       date day and month  \n",
       "0  Thousands of activists descended on London to ... 2017-01-25       Wed_Jan  "
      ]
     },
     "execution_count": 28,
     "metadata": {},
     "output_type": "execute_result"
    }
   ],
   "source": [
    "news_articles_temp.head(1)"
   ]
  },
  {
   "cell_type": "code",
   "execution_count": 29,
   "metadata": {
    "execution": {
     "iopub.status.busy": "2023-05-18T13:44:00.539571Z",
     "iopub.status.idle": "2023-05-18T13:44:00.540138Z",
     "shell.execute_reply": "2023-05-18T13:44:00.539886Z",
     "shell.execute_reply.started": "2023-05-18T13:44:00.539860Z"
    }
   },
   "outputs": [
    {
     "data": {
      "text/html": [
       "<div>\n",
       "<style scoped>\n",
       "    .dataframe tbody tr th:only-of-type {\n",
       "        vertical-align: middle;\n",
       "    }\n",
       "\n",
       "    .dataframe tbody tr th {\n",
       "        vertical-align: top;\n",
       "    }\n",
       "\n",
       "    .dataframe thead th {\n",
       "        text-align: right;\n",
       "    }\n",
       "</style>\n",
       "<table border=\"1\" class=\"dataframe\">\n",
       "  <thead>\n",
       "    <tr style=\"text-align: right;\">\n",
       "      <th></th>\n",
       "      <th>user_id</th>\n",
       "      <th>category</th>\n",
       "      <th>headline</th>\n",
       "      <th>authors</th>\n",
       "      <th>link</th>\n",
       "      <th>short_description</th>\n",
       "      <th>date</th>\n",
       "      <th>day and month</th>\n",
       "    </tr>\n",
       "  </thead>\n",
       "  <tbody>\n",
       "    <tr>\n",
       "      <th>147705</th>\n",
       "      <td>user_147706</td>\n",
       "      <td>ENTERTAINMENT</td>\n",
       "      <td>\"2 Guns\": Two Pros In Action</td>\n",
       "      <td>Jackie K Cooper, Contributor\\nFilm Critic</td>\n",
       "      <td>https://www.huffingtonpost.com/entry/2-guns-tw...</td>\n",
       "      <td>It helps that the supporting cast is almost as...</td>\n",
       "      <td>2013-08-03</td>\n",
       "      <td>Sat_Aug</td>\n",
       "    </tr>\n",
       "  </tbody>\n",
       "</table>\n",
       "</div>"
      ],
      "text/plain": [
       "            user_id       category                      headline  \\\n",
       "147705  user_147706  ENTERTAINMENT  \"2 Guns\": Two Pros In Action   \n",
       "\n",
       "                                          authors  \\\n",
       "147705  Jackie K Cooper, Contributor\\nFilm Critic   \n",
       "\n",
       "                                                     link  \\\n",
       "147705  https://www.huffingtonpost.com/entry/2-guns-tw...   \n",
       "\n",
       "                                        short_description       date  \\\n",
       "147705  It helps that the supporting cast is almost as... 2013-08-03   \n",
       "\n",
       "       day and month  \n",
       "147705       Sat_Aug  "
      ]
     },
     "execution_count": 29,
     "metadata": {},
     "output_type": "execute_result"
    }
   ],
   "source": [
    "news_articles_temp.tail(1)"
   ]
  },
  {
   "cell_type": "markdown",
   "metadata": {},
   "source": [
    "#### Note: We can observe that all the changes has been done."
   ]
  },
  {
   "cell_type": "markdown",
   "metadata": {},
   "source": [
    "## 4) Text Processing:"
   ]
  },
  {
   "cell_type": "code",
   "execution_count": 30,
   "metadata": {
    "execution": {
     "iopub.status.busy": "2023-05-18T13:44:00.541734Z",
     "iopub.status.idle": "2023-05-18T13:44:00.542371Z",
     "shell.execute_reply": "2023-05-18T13:44:00.542056Z",
     "shell.execute_reply.started": "2023-05-18T13:44:00.542020Z"
    }
   },
   "outputs": [],
   "source": [
    "stop_words = set(stopwords.words('english'))"
   ]
  },
  {
   "cell_type": "code",
   "execution_count": 31,
   "metadata": {
    "execution": {
     "iopub.status.busy": "2023-05-18T13:44:00.544073Z",
     "iopub.status.idle": "2023-05-18T13:44:00.544617Z",
     "shell.execute_reply": "2023-05-18T13:44:00.544369Z",
     "shell.execute_reply.started": "2023-05-18T13:44:00.544343Z"
    }
   },
   "outputs": [
    {
     "name": "stdout",
     "output_type": "stream",
     "text": [
      "0\n",
      "1000\n",
      "2000\n",
      "3000\n",
      "4000\n",
      "5000\n",
      "6000\n",
      "7000\n",
      "8000\n",
      "9000\n",
      "10000\n",
      "11000\n",
      "12000\n",
      "13000\n",
      "14000\n",
      "15000\n",
      "16000\n",
      "17000\n",
      "18000\n",
      "19000\n",
      "20000\n",
      "21000\n",
      "22000\n",
      "23000\n",
      "24000\n",
      "25000\n",
      "26000\n",
      "27000\n",
      "28000\n",
      "29000\n",
      "30000\n",
      "31000\n",
      "32000\n",
      "33000\n",
      "34000\n",
      "35000\n",
      "36000\n",
      "37000\n",
      "38000\n",
      "39000\n",
      "40000\n",
      "41000\n",
      "42000\n",
      "43000\n",
      "44000\n",
      "45000\n",
      "46000\n",
      "47000\n",
      "48000\n",
      "49000\n",
      "50000\n",
      "51000\n",
      "52000\n",
      "53000\n",
      "54000\n",
      "55000\n",
      "56000\n",
      "57000\n",
      "58000\n",
      "59000\n",
      "60000\n",
      "61000\n",
      "62000\n",
      "63000\n",
      "64000\n",
      "65000\n",
      "66000\n",
      "67000\n",
      "68000\n",
      "69000\n",
      "70000\n",
      "71000\n",
      "72000\n",
      "73000\n",
      "74000\n",
      "75000\n",
      "76000\n",
      "77000\n",
      "78000\n",
      "79000\n",
      "80000\n",
      "81000\n",
      "82000\n",
      "83000\n",
      "84000\n",
      "85000\n",
      "86000\n",
      "87000\n",
      "88000\n",
      "89000\n",
      "90000\n",
      "91000\n",
      "92000\n",
      "93000\n",
      "94000\n",
      "95000\n",
      "96000\n",
      "97000\n",
      "98000\n",
      "99000\n",
      "100000\n",
      "101000\n",
      "102000\n",
      "103000\n",
      "104000\n",
      "105000\n",
      "106000\n",
      "107000\n",
      "108000\n",
      "109000\n",
      "110000\n",
      "111000\n",
      "112000\n",
      "113000\n",
      "114000\n",
      "115000\n",
      "116000\n",
      "117000\n",
      "118000\n",
      "119000\n",
      "120000\n",
      "121000\n",
      "122000\n",
      "123000\n",
      "124000\n",
      "125000\n",
      "126000\n",
      "127000\n",
      "128000\n",
      "129000\n",
      "130000\n",
      "131000\n",
      "132000\n",
      "133000\n",
      "134000\n",
      "135000\n",
      "136000\n",
      "137000\n",
      "138000\n",
      "139000\n",
      "140000\n",
      "141000\n",
      "142000\n",
      "143000\n",
      "144000\n",
      "145000\n",
      "146000\n",
      "147000\n"
     ]
    }
   ],
   "source": [
    "for i, headline in enumerate(news_articles_temp[\"headline\"]):\n",
    "    cleaned_words = [word.lower() for word in headline.split() if word.isalnum() and word.lower() not in stop_words]\n",
    "    cleaned_headline = ' '.join(cleaned_words)\n",
    "    news_articles_temp.at[i, \"clean_headline\"] = cleaned_headline\n",
    "    if(i%1000==0):\n",
    "        print(i)           # To track number of records processed"
   ]
  },
  {
   "cell_type": "code",
   "execution_count": 32,
   "metadata": {
    "execution": {
     "iopub.status.busy": "2023-05-18T13:44:00.546230Z",
     "iopub.status.idle": "2023-05-18T13:44:00.546835Z",
     "shell.execute_reply": "2023-05-18T13:44:00.546531Z",
     "shell.execute_reply.started": "2023-05-18T13:44:00.546503Z"
    }
   },
   "outputs": [],
   "source": [
    "lemmatizer = WordNetLemmatizer()"
   ]
  },
  {
   "cell_type": "code",
   "execution_count": 33,
   "metadata": {
    "execution": {
     "iopub.status.busy": "2023-05-18T13:44:00.551071Z",
     "iopub.status.idle": "2023-05-18T13:44:00.551514Z",
     "shell.execute_reply": "2023-05-18T13:44:00.551324Z",
     "shell.execute_reply.started": "2023-05-18T13:44:00.551304Z"
    }
   },
   "outputs": [
    {
     "name": "stdout",
     "output_type": "stream",
     "text": [
      "0\n",
      "1000\n",
      "2000\n",
      "3000\n",
      "4000\n",
      "5000\n",
      "6000\n",
      "7000\n",
      "8000\n",
      "9000\n",
      "10000\n",
      "11000\n",
      "12000\n",
      "13000\n",
      "14000\n",
      "15000\n",
      "16000\n",
      "17000\n",
      "18000\n",
      "19000\n",
      "20000\n",
      "21000\n",
      "22000\n",
      "23000\n",
      "24000\n",
      "25000\n",
      "26000\n",
      "27000\n",
      "28000\n",
      "29000\n",
      "30000\n",
      "31000\n",
      "32000\n",
      "33000\n",
      "34000\n",
      "35000\n",
      "36000\n",
      "37000\n",
      "38000\n",
      "39000\n",
      "40000\n",
      "41000\n",
      "42000\n",
      "43000\n",
      "44000\n",
      "45000\n",
      "46000\n",
      "47000\n",
      "48000\n",
      "49000\n",
      "50000\n",
      "51000\n",
      "52000\n",
      "53000\n",
      "54000\n",
      "55000\n",
      "56000\n",
      "57000\n",
      "58000\n",
      "59000\n",
      "60000\n",
      "61000\n",
      "62000\n",
      "63000\n",
      "64000\n",
      "65000\n",
      "66000\n",
      "67000\n",
      "68000\n",
      "69000\n",
      "70000\n",
      "71000\n",
      "72000\n",
      "73000\n",
      "74000\n",
      "75000\n",
      "76000\n",
      "77000\n",
      "78000\n",
      "79000\n",
      "80000\n",
      "81000\n",
      "82000\n",
      "83000\n",
      "84000\n",
      "85000\n",
      "86000\n",
      "87000\n",
      "88000\n",
      "89000\n",
      "90000\n",
      "91000\n",
      "92000\n",
      "93000\n",
      "94000\n",
      "95000\n",
      "96000\n",
      "97000\n",
      "98000\n",
      "99000\n",
      "100000\n",
      "101000\n",
      "102000\n",
      "103000\n",
      "104000\n",
      "105000\n",
      "106000\n",
      "107000\n",
      "108000\n",
      "109000\n",
      "110000\n",
      "111000\n",
      "112000\n",
      "113000\n",
      "114000\n",
      "115000\n",
      "116000\n",
      "117000\n",
      "118000\n",
      "119000\n",
      "120000\n",
      "121000\n",
      "122000\n",
      "123000\n",
      "124000\n",
      "125000\n",
      "126000\n",
      "127000\n",
      "128000\n",
      "129000\n",
      "130000\n",
      "131000\n",
      "132000\n",
      "133000\n",
      "134000\n",
      "135000\n",
      "136000\n",
      "137000\n",
      "138000\n",
      "139000\n",
      "140000\n",
      "141000\n",
      "142000\n",
      "143000\n",
      "144000\n",
      "145000\n",
      "146000\n",
      "147000\n"
     ]
    }
   ],
   "source": [
    "for i, headline in enumerate(news_articles_temp[\"headline\"]):\n",
    "    if isinstance(headline, str):\n",
    "        lemmatized_words = [lemmatizer.lemmatize(word, pos=\"v\") for word in word_tokenize(headline)]\n",
    "        lemmatized_headline = ' '.join(lemmatized_words)\n",
    "        news_articles_temp.at[i, \"lemmatized_headline\"] = lemmatized_headline\n",
    "    if i % 1000 ==0:\n",
    "        print(i)"
   ]
  },
  {
   "cell_type": "markdown",
   "metadata": {},
   "source": [
    "## 5) Model Building:"
   ]
  },
  {
   "cell_type": "markdown",
   "metadata": {},
   "source": [
    "### 5.1 Using Bag of Words:"
   ]
  },
  {
   "cell_type": "code",
   "execution_count": 34,
   "metadata": {
    "execution": {
     "iopub.status.busy": "2023-05-18T13:44:00.553172Z",
     "iopub.status.idle": "2023-05-18T13:44:00.553987Z",
     "shell.execute_reply": "2023-05-18T13:44:00.553775Z",
     "shell.execute_reply.started": "2023-05-18T13:44:00.553752Z"
    }
   },
   "outputs": [],
   "source": [
    "headline_vectorizer = CountVectorizer()\n",
    "headline_features   = headline_vectorizer.fit_transform(news_articles_temp['headline'])"
   ]
  },
  {
   "cell_type": "code",
   "execution_count": 35,
   "metadata": {
    "execution": {
     "iopub.status.busy": "2023-05-18T13:44:00.555329Z",
     "iopub.status.idle": "2023-05-18T13:44:00.556097Z",
     "shell.execute_reply": "2023-05-18T13:44:00.555890Z",
     "shell.execute_reply.started": "2023-05-18T13:44:00.555868Z"
    }
   },
   "outputs": [
    {
     "data": {
      "text/plain": [
       "(147706, 48689)"
      ]
     },
     "execution_count": 35,
     "metadata": {},
     "output_type": "execute_result"
    }
   ],
   "source": [
    "headline_features.get_shape()"
   ]
  },
  {
   "cell_type": "code",
   "execution_count": 44,
   "metadata": {
    "execution": {
     "iopub.status.busy": "2023-05-18T13:44:00.557413Z",
     "iopub.status.idle": "2023-05-18T13:44:00.558182Z",
     "shell.execute_reply": "2023-05-18T13:44:00.557997Z",
     "shell.execute_reply.started": "2023-05-18T13:44:00.557975Z"
    }
   },
   "outputs": [],
   "source": [
    "from sklearn.metrics.pairwise import euclidean_distances\n",
    "\n",
    "euclidean_sim = None  # Declare as global variable\n",
    "\n",
    "def bag_of_words_based_model(user_id, num_similar_items):\n",
    "    global euclidean_sim  # Declare as global to modify the variable\n",
    "\n",
    "    # Calculate the Euclidean similarity\n",
    "    euclidean_sim = euclidean_distances(headline_features,headline_features[user_id].reshape(1, -1))\n",
    "    indices = np.argsort(euclidean_sim.ravel())[0:num_similar_items]\n",
    "\n",
    "    df = pd.DataFrame({\n",
    "        'publish_date': news_articles['date'][indices].values,\n",
    "        'category': news_articles['category'][indices].values,\n",
    "        'headline': news_articles['headline'][indices].values,\n",
    "        'link': news_articles['link'][indices].values,\n",
    "        'short_description': news_articles['short_description'][indices].values,\n",
    "        'Euclidean similarity with the queried article': euclidean_sim[indices].ravel()\n",
    "    })\n",
    "\n",
    "    print(\"*\" * 30, \"Queried article details\", \"*\" * 30)\n",
    "    print('headline: ', news_articles['headline'][indices[0]])\n",
    "    print(\"\\n\", \"*\" * 30, \"Recommended articles: \", \"*\" * 30)\n",
    "\n",
    "    return df.iloc[1:,]\n"
   ]
  },
  {
   "cell_type": "markdown",
   "metadata": {},
   "source": [
    "#### Note: we have created a function with 2 input parameters i.e., user_id and number of recommendations needed for that particular user_id. Now we will enter the parameters and see the recommendations using Bag of words."
   ]
  },
  {
   "cell_type": "code",
   "execution_count": 45,
   "metadata": {
    "execution": {
     "iopub.status.busy": "2023-05-18T13:44:00.559510Z",
     "iopub.status.idle": "2023-05-18T13:44:00.560386Z",
     "shell.execute_reply": "2023-05-18T13:44:00.560172Z",
     "shell.execute_reply.started": "2023-05-18T13:44:00.560147Z"
    }
   },
   "outputs": [
    {
     "name": "stdout",
     "output_type": "stream",
     "text": [
      "****************************** Queried article details ******************************\n",
      "headline:  “To The Bone” Didn’t Teach Me Glamour. It Taught Me Respect.\n",
      "\n",
      " ****************************** Recommended articles:  ******************************\n"
     ]
    },
    {
     "data": {
      "text/html": [
       "<div>\n",
       "<style scoped>\n",
       "    .dataframe tbody tr th:only-of-type {\n",
       "        vertical-align: middle;\n",
       "    }\n",
       "\n",
       "    .dataframe tbody tr th {\n",
       "        vertical-align: top;\n",
       "    }\n",
       "\n",
       "    .dataframe thead th {\n",
       "        text-align: right;\n",
       "    }\n",
       "</style>\n",
       "<table border=\"1\" class=\"dataframe\">\n",
       "  <thead>\n",
       "    <tr style=\"text-align: right;\">\n",
       "      <th></th>\n",
       "      <th>publish_date</th>\n",
       "      <th>category</th>\n",
       "      <th>headline</th>\n",
       "      <th>link</th>\n",
       "      <th>short_description</th>\n",
       "      <th>Euclidean similarity with the queried article</th>\n",
       "    </tr>\n",
       "  </thead>\n",
       "  <tbody>\n",
       "    <tr>\n",
       "      <th>1</th>\n",
       "      <td>2015-05-18</td>\n",
       "      <td>HEALTHY LIVING</td>\n",
       "      <td>It Didn't Happen to Me</td>\n",
       "      <td>https://www.huffingtonpost.com/entry/it-didnt-...</td>\n",
       "      <td>If it happened to a friend, a third cousin twi...</td>\n",
       "      <td>2.828427</td>\n",
       "    </tr>\n",
       "    <tr>\n",
       "      <th>2</th>\n",
       "      <td>2013-11-18</td>\n",
       "      <td>WELLNESS</td>\n",
       "      <td>The Real Me</td>\n",
       "      <td>https://www.huffingtonpost.com/entry/the-real-...</td>\n",
       "      <td>Several weeks ago I had that moment. With very...</td>\n",
       "      <td>3.162278</td>\n",
       "    </tr>\n",
       "    <tr>\n",
       "      <th>3</th>\n",
       "      <td>2015-04-06</td>\n",
       "      <td>SCIENCE</td>\n",
       "      <td>Fly Me to the Moon!</td>\n",
       "      <td>https://www.huffingtonpost.com/entry/fly-me-to...</td>\n",
       "      <td>Yes, I know the current push by our Federal Sp...</td>\n",
       "      <td>3.162278</td>\n",
       "    </tr>\n",
       "    <tr>\n",
       "      <th>4</th>\n",
       "      <td>2013-10-16</td>\n",
       "      <td>PARENTING</td>\n",
       "      <td>Listen to Me</td>\n",
       "      <td>https://www.huffingtonpost.com/entry/listen-to...</td>\n",
       "      <td>Kids don't listen. Not every time. Not now and...</td>\n",
       "      <td>3.162278</td>\n",
       "    </tr>\n",
       "  </tbody>\n",
       "</table>\n",
       "</div>"
      ],
      "text/plain": [
       "  publish_date        category                headline  \\\n",
       "1   2015-05-18  HEALTHY LIVING  It Didn't Happen to Me   \n",
       "2   2013-11-18        WELLNESS             The Real Me   \n",
       "3   2015-04-06         SCIENCE     Fly Me to the Moon!   \n",
       "4   2013-10-16       PARENTING            Listen to Me   \n",
       "\n",
       "                                                link  \\\n",
       "1  https://www.huffingtonpost.com/entry/it-didnt-...   \n",
       "2  https://www.huffingtonpost.com/entry/the-real-...   \n",
       "3  https://www.huffingtonpost.com/entry/fly-me-to...   \n",
       "4  https://www.huffingtonpost.com/entry/listen-to...   \n",
       "\n",
       "                                   short_description  \\\n",
       "1  If it happened to a friend, a third cousin twi...   \n",
       "2  Several weeks ago I had that moment. With very...   \n",
       "3  Yes, I know the current push by our Federal Sp...   \n",
       "4  Kids don't listen. Not every time. Not now and...   \n",
       "\n",
       "   Euclidean similarity with the queried article  \n",
       "1                                       2.828427  \n",
       "2                                       3.162278  \n",
       "3                                       3.162278  \n",
       "4                                       3.162278  "
      ]
     },
     "execution_count": 45,
     "metadata": {},
     "output_type": "execute_result"
    }
   ],
   "source": [
    "bag_of_words_based_model(1, 5)"
   ]
  },
  {
   "cell_type": "markdown",
   "metadata": {},
   "source": [
    "#### Note: Hence we can see that the following recommendations have been provided for the user_id we have chosen."
   ]
  },
  {
   "cell_type": "markdown",
   "metadata": {},
   "source": [
    "### 5.2 Using Tf-idf:"
   ]
  },
  {
   "cell_type": "code",
   "execution_count": 46,
   "metadata": {
    "execution": {
     "iopub.status.busy": "2023-05-18T13:44:00.562171Z",
     "iopub.status.idle": "2023-05-18T13:44:00.562681Z",
     "shell.execute_reply": "2023-05-18T13:44:00.562460Z",
     "shell.execute_reply.started": "2023-05-18T13:44:00.562439Z"
    }
   },
   "outputs": [],
   "source": [
    "tfidf_headline_vectorizer = TfidfVectorizer(min_df = 0)\n",
    "tfidf_headline_features = tfidf_headline_vectorizer.fit_transform(news_articles_temp['headline'])"
   ]
  },
  {
   "cell_type": "code",
   "execution_count": 47,
   "metadata": {
    "execution": {
     "iopub.status.busy": "2023-05-18T13:44:00.564407Z",
     "iopub.status.idle": "2023-05-18T13:44:00.565428Z",
     "shell.execute_reply": "2023-05-18T13:44:00.565236Z",
     "shell.execute_reply.started": "2023-05-18T13:44:00.565206Z"
    }
   },
   "outputs": [],
   "source": [
    "euclidean_sim = None  # Declare as global variable\n",
    "\n",
    "def tfidf_based_model(user_id, num_similar_items):\n",
    "    global euclidean_sim  # Declare as global to modify the variable\n",
    "\n",
    "    # Calculate the Euclidean similarity\n",
    "    euclidean_sim = euclidean_distances(headline_features, headline_features[user_id].reshape(1, -1))\n",
    "    indices = np.argsort(euclidean_sim.ravel())[0:num_similar_items]\n",
    "\n",
    "    df = pd.DataFrame({\n",
    "        'publish_date': news_articles['date'][indices].values,\n",
    "        'category': news_articles['category'][indices].values,\n",
    "        'headline': news_articles['headline'][indices].values,\n",
    "        'link': news_articles['link'][indices].values,\n",
    "        'short_description': news_articles['short_description'][indices].values,\n",
    "        'Euclidean similarity with the queried article': euclidean_sim[indices].ravel()\n",
    "    })\n",
    "\n",
    "    print(\"*\" * 30, \"Queried article details\", \"*\" * 30)\n",
    "    print('headline: ', news_articles['headline'][indices[0]])\n",
    "    print(\"\\n\", \"*\" * 30, \"Recommended articles: \", \"*\" * 30)\n",
    "\n",
    "    return df.iloc[1:,]"
   ]
  },
  {
   "cell_type": "markdown",
   "metadata": {},
   "source": [
    "#### Note: we have created a function with 2 input parameters i.e., user_id and number of recommendations needed for that particular user_id. Now we will enter the parameters and see the recommendations using Tf-idf."
   ]
  },
  {
   "cell_type": "code",
   "execution_count": 48,
   "metadata": {
    "execution": {
     "iopub.status.busy": "2023-05-18T13:44:00.567080Z",
     "iopub.status.idle": "2023-05-18T13:44:00.568245Z",
     "shell.execute_reply": "2023-05-18T13:44:00.567960Z",
     "shell.execute_reply.started": "2023-05-18T13:44:00.567929Z"
    }
   },
   "outputs": [
    {
     "name": "stdout",
     "output_type": "stream",
     "text": [
      "****************************** Queried article details ******************************\n",
      "headline:  “To The Bone” Didn’t Teach Me Glamour. It Taught Me Respect.\n",
      "\n",
      " ****************************** Recommended articles:  ******************************\n"
     ]
    },
    {
     "data": {
      "text/html": [
       "<div>\n",
       "<style scoped>\n",
       "    .dataframe tbody tr th:only-of-type {\n",
       "        vertical-align: middle;\n",
       "    }\n",
       "\n",
       "    .dataframe tbody tr th {\n",
       "        vertical-align: top;\n",
       "    }\n",
       "\n",
       "    .dataframe thead th {\n",
       "        text-align: right;\n",
       "    }\n",
       "</style>\n",
       "<table border=\"1\" class=\"dataframe\">\n",
       "  <thead>\n",
       "    <tr style=\"text-align: right;\">\n",
       "      <th></th>\n",
       "      <th>publish_date</th>\n",
       "      <th>category</th>\n",
       "      <th>headline</th>\n",
       "      <th>link</th>\n",
       "      <th>short_description</th>\n",
       "      <th>Euclidean similarity with the queried article</th>\n",
       "    </tr>\n",
       "  </thead>\n",
       "  <tbody>\n",
       "    <tr>\n",
       "      <th>1</th>\n",
       "      <td>2015-05-18</td>\n",
       "      <td>HEALTHY LIVING</td>\n",
       "      <td>It Didn't Happen to Me</td>\n",
       "      <td>https://www.huffingtonpost.com/entry/it-didnt-...</td>\n",
       "      <td>If it happened to a friend, a third cousin twi...</td>\n",
       "      <td>2.828427</td>\n",
       "    </tr>\n",
       "    <tr>\n",
       "      <th>2</th>\n",
       "      <td>2013-11-18</td>\n",
       "      <td>WELLNESS</td>\n",
       "      <td>The Real Me</td>\n",
       "      <td>https://www.huffingtonpost.com/entry/the-real-...</td>\n",
       "      <td>Several weeks ago I had that moment. With very...</td>\n",
       "      <td>3.162278</td>\n",
       "    </tr>\n",
       "    <tr>\n",
       "      <th>3</th>\n",
       "      <td>2015-04-06</td>\n",
       "      <td>SCIENCE</td>\n",
       "      <td>Fly Me to the Moon!</td>\n",
       "      <td>https://www.huffingtonpost.com/entry/fly-me-to...</td>\n",
       "      <td>Yes, I know the current push by our Federal Sp...</td>\n",
       "      <td>3.162278</td>\n",
       "    </tr>\n",
       "    <tr>\n",
       "      <th>4</th>\n",
       "      <td>2013-10-16</td>\n",
       "      <td>PARENTING</td>\n",
       "      <td>Listen to Me</td>\n",
       "      <td>https://www.huffingtonpost.com/entry/listen-to...</td>\n",
       "      <td>Kids don't listen. Not every time. Not now and...</td>\n",
       "      <td>3.162278</td>\n",
       "    </tr>\n",
       "  </tbody>\n",
       "</table>\n",
       "</div>"
      ],
      "text/plain": [
       "  publish_date        category                headline  \\\n",
       "1   2015-05-18  HEALTHY LIVING  It Didn't Happen to Me   \n",
       "2   2013-11-18        WELLNESS             The Real Me   \n",
       "3   2015-04-06         SCIENCE     Fly Me to the Moon!   \n",
       "4   2013-10-16       PARENTING            Listen to Me   \n",
       "\n",
       "                                                link  \\\n",
       "1  https://www.huffingtonpost.com/entry/it-didnt-...   \n",
       "2  https://www.huffingtonpost.com/entry/the-real-...   \n",
       "3  https://www.huffingtonpost.com/entry/fly-me-to...   \n",
       "4  https://www.huffingtonpost.com/entry/listen-to...   \n",
       "\n",
       "                                   short_description  \\\n",
       "1  If it happened to a friend, a third cousin twi...   \n",
       "2  Several weeks ago I had that moment. With very...   \n",
       "3  Yes, I know the current push by our Federal Sp...   \n",
       "4  Kids don't listen. Not every time. Not now and...   \n",
       "\n",
       "   Euclidean similarity with the queried article  \n",
       "1                                       2.828427  \n",
       "2                                       3.162278  \n",
       "3                                       3.162278  \n",
       "4                                       3.162278  "
      ]
     },
     "execution_count": 48,
     "metadata": {},
     "output_type": "execute_result"
    }
   ],
   "source": [
    "tfidf_based_model(1, 5)"
   ]
  },
  {
   "cell_type": "markdown",
   "metadata": {},
   "source": [
    "#### Note: Hence we can see that the following recommendations have been provided for the user_id we have chosen."
   ]
  },
  {
   "cell_type": "code",
   "execution_count": 49,
   "metadata": {
    "execution": {
     "iopub.status.busy": "2023-05-18T13:44:00.569998Z",
     "iopub.status.idle": "2023-05-18T13:44:00.571046Z",
     "shell.execute_reply": "2023-05-18T13:44:00.570769Z",
     "shell.execute_reply.started": "2023-05-18T13:44:00.570737Z"
    }
   },
   "outputs": [
    {
     "data": {
      "text/plain": [
       "array([[4.79583152],\n",
       "       [0.        ],\n",
       "       [4.47213595],\n",
       "       ...,\n",
       "       [4.89897949],\n",
       "       [4.12310563],\n",
       "       [4.24264069]])"
      ]
     },
     "execution_count": 49,
     "metadata": {},
     "output_type": "execute_result"
    }
   ],
   "source": [
    "euclidean_sim"
   ]
  },
  {
   "cell_type": "markdown",
   "metadata": {},
   "source": [
    "## 6) Creating a pickle file for model deployment using web application :"
   ]
  },
  {
   "cell_type": "markdown",
   "metadata": {},
   "source": [
    "#### Note: There are lots of features i am filtering the requrired features i.e., user_id, category, headline, link, short_description as this will be used to get the information related to news recommendation. "
   ]
  },
  {
   "cell_type": "code",
   "execution_count": 50,
   "metadata": {
    "execution": {
     "iopub.status.busy": "2023-05-18T13:44:00.572780Z",
     "iopub.status.idle": "2023-05-18T13:44:00.573356Z",
     "shell.execute_reply": "2023-05-18T13:44:00.573103Z",
     "shell.execute_reply.started": "2023-05-18T13:44:00.573075Z"
    }
   },
   "outputs": [],
   "source": [
    "# Making a dictionary so that this can be consumed in the web application \n",
    "data_for_web_app = news_articles_temp[['user_id','category','headline','link','short_description']]"
   ]
  },
  {
   "cell_type": "code",
   "execution_count": null,
   "metadata": {
    "execution": {
     "iopub.status.busy": "2023-05-18T13:44:00.574931Z",
     "iopub.status.idle": "2023-05-18T13:44:00.575486Z",
     "shell.execute_reply": "2023-05-18T13:44:00.575241Z",
     "shell.execute_reply.started": "2023-05-18T13:44:00.575214Z"
    }
   },
   "outputs": [],
   "source": [
    "# Exporting the filtered data for Web App to csv file so that it can be consumed during development.\n",
    "data_for_web_app.to_csv('user_data.csv')"
   ]
  },
  {
   "cell_type": "code",
   "execution_count": null,
   "metadata": {
    "execution": {
     "iopub.status.busy": "2023-05-18T13:44:00.576972Z",
     "iopub.status.idle": "2023-05-18T13:44:00.577518Z",
     "shell.execute_reply": "2023-05-18T13:44:00.577276Z",
     "shell.execute_reply.started": "2023-05-18T13:44:00.577250Z"
    }
   },
   "outputs": [],
   "source": [
    "# Save the final Model as a pickle file for deployment.\n",
    "pickle.dump(tfidf_headline_vectorizer,open('tf-idf Final Model File.pkl','wb'))"
   ]
  },
  {
   "cell_type": "code",
   "execution_count": 41,
   "metadata": {
    "execution": {
     "iopub.status.busy": "2023-05-18T13:44:00.581693Z",
     "iopub.status.idle": "2023-05-18T13:44:00.582248Z",
     "shell.execute_reply": "2023-05-18T13:44:00.582002Z",
     "shell.execute_reply.started": "2023-05-18T13:44:00.581975Z"
    }
   },
   "outputs": [],
   "source": []
  }
 ],
 "metadata": {
  "kernelspec": {
   "display_name": "Python 3 (ipykernel)",
   "language": "python",
   "name": "python3"
  },
  "language_info": {
   "codemirror_mode": {
    "name": "ipython",
    "version": 3
   },
   "file_extension": ".py",
   "mimetype": "text/x-python",
   "name": "python",
   "nbconvert_exporter": "python",
   "pygments_lexer": "ipython3",
   "version": "3.9.13"
  }
 },
 "nbformat": 4,
 "nbformat_minor": 4
}
